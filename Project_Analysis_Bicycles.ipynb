{
 "cells": [
  {
   "cell_type": "markdown",
   "id": "da24a8a4",
   "metadata": {},
   "source": [
    "# We perform an analysis of a Bike Store Sales #"
   ]
  },
  {
   "cell_type": "code",
   "execution_count": 1,
   "id": "13c3b18f",
   "metadata": {},
   "outputs": [],
   "source": [
    "import numpy as np\n",
    "import pandas as pd\n",
    "import matplotlib.pyplot as plt\n",
    "\n",
    "%matplotlib inline"
   ]
  },
  {
   "cell_type": "markdown",
   "id": "1d92c967",
   "metadata": {},
   "source": [
    "We load the data from the csv"
   ]
  },
  {
   "cell_type": "code",
   "execution_count": 2,
   "id": "fdf861a1",
   "metadata": {},
   "outputs": [
    {
     "name": "stdout",
     "output_type": "stream",
     "text": [
      "<class 'pandas.core.frame.DataFrame'>\n",
      "RangeIndex: 113036 entries, 0 to 113035\n",
      "Data columns (total 18 columns):\n",
      " #   Column            Non-Null Count   Dtype \n",
      "---  ------            --------------   ----- \n",
      " 0   Date              113036 non-null  object\n",
      " 1   Day               113036 non-null  int64 \n",
      " 2   Month             113036 non-null  object\n",
      " 3   Year              113036 non-null  int64 \n",
      " 4   Customer_Age      113036 non-null  int64 \n",
      " 5   Age_Group         113036 non-null  object\n",
      " 6   Customer_Gender   113036 non-null  object\n",
      " 7   Country           113036 non-null  object\n",
      " 8   State             113036 non-null  object\n",
      " 9   Product_Category  113036 non-null  object\n",
      " 10  Sub_Category      113036 non-null  object\n",
      " 11  Product           113036 non-null  object\n",
      " 12  Order_Quantity    113036 non-null  int64 \n",
      " 13  Unit_Cost         113036 non-null  int64 \n",
      " 14  Unit_Price        113036 non-null  int64 \n",
      " 15  Profit            113036 non-null  int64 \n",
      " 16  Cost              113036 non-null  int64 \n",
      " 17  Revenue           113036 non-null  int64 \n",
      "dtypes: int64(9), object(9)\n",
      "memory usage: 15.5+ MB\n",
      "None\n"
     ]
    }
   ],
   "source": [
    "sales=pd.read_csv('sales_data.csv')\n",
    "print(sales.info())"
   ]
  },
  {
   "cell_type": "code",
   "execution_count": 19,
   "id": "5d293fb1",
   "metadata": {},
   "outputs": [
    {
     "name": "stdout",
     "output_type": "stream",
     "text": [
      "              Date  Day     Month  Year  Customer_Age             Age_Group  \\\n",
      "56517   2011-12-23   23  December  2011            35        Adults (35-64)   \n",
      "69025   2011-08-04    4    August  2011            25  Young Adults (25-34)   \n",
      "69027   2011-08-06    6    August  2011            25  Young Adults (25-34)   \n",
      "69029   2011-08-17   17    August  2011            25  Young Adults (25-34)   \n",
      "69031   2011-10-22   22   October  2011            25  Young Adults (25-34)   \n",
      "...            ...  ...       ...   ...           ...                   ...   \n",
      "9735    2016-02-03    3  February  2016            34  Young Adults (25-34)   \n",
      "9733    2016-01-17   17   January  2016            34  Young Adults (25-34)   \n",
      "9732    2016-01-17   17   January  2016            34  Young Adults (25-34)   \n",
      "9742    2016-07-07    7      July  2016            34  Young Adults (25-34)   \n",
      "113035  2016-03-04    4     March  2016            37        Adults (35-64)   \n",
      "\n",
      "       Customer_Gender        Country             State Product_Category  \\\n",
      "56517                F  United States        California            Bikes   \n",
      "69025                F         Canada  British Columbia            Bikes   \n",
      "69027                F         Canada  British Columbia            Bikes   \n",
      "69029                F         Canada  British Columbia            Bikes   \n",
      "69031                F         Canada  British Columbia            Bikes   \n",
      "...                ...            ...               ...              ...   \n",
      "9735                 F  United States        Washington      Accessories   \n",
      "9733                 F  United States        Washington      Accessories   \n",
      "9732                 F  United States        Washington      Accessories   \n",
      "9742                 F  United States        Washington      Accessories   \n",
      "113035               F         France     Seine (Paris)         Clothing   \n",
      "\n",
      "             Sub_Category                 Product  Order_Quantity  Unit_Cost  \\\n",
      "56517      Mountain Bikes  Mountain-500 Black, 42               1        295   \n",
      "69025          Road Bikes        Road-250 Red, 52               1       1519   \n",
      "69027          Road Bikes        Road-250 Red, 52               1       1519   \n",
      "69029          Road Bikes        Road-250 Red, 52               3       1519   \n",
      "69031          Road Bikes        Road-250 Red, 52               1       1519   \n",
      "...                   ...                     ...             ...        ...   \n",
      "9735    Bottles and Cages   Water Bottle - 30 oz.              29          2   \n",
      "9733    Bottles and Cages   Water Bottle - 30 oz.               8          2   \n",
      "9732    Bottles and Cages   Water Bottle - 30 oz.              27          2   \n",
      "9742    Bottles and Cages   Water Bottle - 30 oz.               3          2   \n",
      "113035              Vests         Classic Vest, L              23         24   \n",
      "\n",
      "        Unit_Price  Profit  Cost  Revenue  \n",
      "56517          540     234   295      529  \n",
      "69025         2443     900  1519     2419  \n",
      "69027         2443     900  1519     2419  \n",
      "69029         2443    2699  4557     7256  \n",
      "69031         2443     900  1519     2419  \n",
      "...            ...     ...   ...      ...  \n",
      "9735             5      55    58      113  \n",
      "9733             5      15    16       31  \n",
      "9732             5      51    54      105  \n",
      "9742             5       6     6       12  \n",
      "113035          64     655   552     1207  \n",
      "\n",
      "[113036 rows x 18 columns]\n"
     ]
    }
   ],
   "source": [
    "print(sales.sort_values(by=['Year']))"
   ]
  },
  {
   "cell_type": "markdown",
   "id": "986a3ba2",
   "metadata": {},
   "source": [
    "## What's the mean of Customers_Age?"
   ]
  },
  {
   "cell_type": "code",
   "execution_count": null,
   "id": "98cb9984",
   "metadata": {},
   "outputs": [],
   "source": [
    "customers_age=sales.Customer_Age.mean()\n",
    "print('The customers age mean is ',customers_age)"
   ]
  },
  {
   "cell_type": "code",
   "execution_count": 3,
   "id": "44989c42",
   "metadata": {},
   "outputs": [
    {
     "data": {
      "image/png": "[encoded data removed]",
      "text/plain": [
       "<Figure size 432x288 with 1 Axes>"
      ]
     },
     "metadata": {
      "needs_background": "light"
     },
     "output_type": "display_data"
    }
   ],
   "source": [
    "hist_age=plt.hist(sales['Customer_Age'],bins=25)\n",
    "plt.title('Histogram of the age customer')\n",
    "plt.xlabel('Age of the customers')\n",
    "plt.ylabel('Values')\n",
    " \n",
    "plt.show()"
   ]
  },
  {
   "cell_type": "markdown",
   "id": "4206cafc",
   "metadata": {},
   "source": [
    "##  How many sales per year do we have?"
   ]
  },
  {
   "cell_type": "code",
   "execution_count": 20,
   "id": "63aeba8e",
   "metadata": {},
   "outputs": [
    {
     "data": {
      "text/plain": [
       "2014    29398\n",
       "2016    29398\n",
       "2013    24443\n",
       "2015    24443\n",
       "2012     2677\n",
       "2011     2677\n",
       "Name: Year, dtype: int64"
      ]
     },
     "execution_count": 20,
     "metadata": {},
     "output_type": "execute_result"
    }
   ],
   "source": [
    "sales['Year'].value_counts()"
   ]
  },
  {
   "cell_type": "code",
   "execution_count": 6,
   "id": "75cacf58",
   "metadata": {},
   "outputs": [
    {
     "data": {
      "text/plain": [
       "<AxesSubplot:ylabel='Year'>"
      ]
     },
     "execution_count": 6,
     "metadata": {},
     "output_type": "execute_result"
    },
    {
     "data": {
      "image/png": "[encoded data removed]",
      "text/plain": [
       "<Figure size 432x288 with 1 Axes>"
      ]
     },
     "metadata": {},
     "output_type": "display_data"
    }
   ],
   "source": [
    "sales['Year'].value_counts().plot(kind='pie')\n"
   ]
  },
  {
   "cell_type": "markdown",
   "id": "0bf2db36",
   "metadata": {},
   "source": [
    "## Which country has the most sales quantity of sales?\n"
   ]
  },
  {
   "cell_type": "code",
   "execution_count": 11,
   "id": "eb37a517",
   "metadata": {},
   "outputs": [
    {
     "data": {
      "text/plain": [
       "United States    39206\n",
       "Name: Country, dtype: int64"
      ]
     },
     "execution_count": 11,
     "metadata": {},
     "output_type": "execute_result"
    }
   ],
   "source": [
    "sales['Country'].value_counts().head(1)"
   ]
  },
  {
   "cell_type": "markdown",
   "id": "1ea3c3dc",
   "metadata": {},
   "source": [
    "## Get the sale with the highest revenue"
   ]
  },
  {
   "cell_type": "code",
   "execution_count": 18,
   "id": "10bfe449",
   "metadata": {},
   "outputs": [
    {
     "data": {
      "text/plain": [
       "Date                             2012-09-11\n",
       "Day                                      11\n",
       "Month                             September\n",
       "Year                                   2012\n",
       "Customer_Age                             25\n",
       "Age_Group              Young Adults (25-34)\n",
       "Customer_Gender                           M\n",
       "Country                              France\n",
       "State                     Seine Saint Denis\n",
       "Product_Category                      Bikes\n",
       "Sub_Category                 Mountain Bikes\n",
       "Product             Mountain-200 Silver, 42\n",
       "Order_Quantity                            2\n",
       "Unit_Cost                              1266\n",
       "Unit_Price                             2320\n",
       "Profit                                 1273\n",
       "Cost                                   2532\n",
       "Revenue                                3805\n",
       "Name: 58074, dtype: object"
      ]
     },
     "execution_count": 18,
     "metadata": {},
     "output_type": "execute_result"
    }
   ],
   "source": [
    "high=sales['Revenue'].max()\n",
    "sales.loc[high]"
   ]
  },
  {
   "cell_type": "code",
   "execution_count": null,
   "id": "e26a99a9",
   "metadata": {},
   "outputs": [],
   "source": []
  }
 ],
 "metadata": {
  "kernelspec": {
   "display_name": "Python 3 (ipykernel)",
   "language": "python",
   "name": "python3"
  },
  "language_info": {
   "codemirror_mode": {
    "name": "ipython",
    "version": 3
   },
   "file_extension": ".py",
   "mimetype": "text/x-python",
   "name": "python",
   "nbconvert_exporter": "python",
   "pygments_lexer": "ipython3",
   "version": "3.9.12"
  }
 },
 "nbformat": 4,
 "nbformat_minor": 5
}
